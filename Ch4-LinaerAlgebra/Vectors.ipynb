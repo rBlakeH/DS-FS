{
 "cells": [
  {
   "cell_type": "code",
   "execution_count": 34,
   "id": "6bc05dc5",
   "metadata": {},
   "outputs": [],
   "source": [
    "from typing import List\n",
    "import math\n",
    "Vector = List[float]"
   ]
  },
  {
   "cell_type": "code",
   "execution_count": 15,
   "id": "aa2f8076",
   "metadata": {},
   "outputs": [],
   "source": [
    "height_weight_age = [70, 170, 40 ]\n",
    "grades = [95, 80, 75, 62]\n"
   ]
  },
  {
   "cell_type": "code",
   "execution_count": 19,
   "id": "9f6319b2",
   "metadata": {},
   "outputs": [],
   "source": [
    "# Add corresponding elements\n",
    "def add(v: Vector, w: Vector) -> Vector:\n",
    "    assert len(v) == len(w), \"vectors must be same length\"\n",
    "    return [v_i + w_i for v_i, w_i in zip(v,w)]\n",
    "assert add([1,2,3], [4,5,6]) == [5,7,9]"
   ]
  },
  {
   "cell_type": "code",
   "execution_count": 25,
   "id": "31962f02",
   "metadata": {},
   "outputs": [],
   "source": [
    "# Subtract Correspoding elements\n",
    "def subtract(v: Vector, w:Vector) -> Vector:\n",
    "    assert len(v) == len(w), 'vector must be same length'\n",
    "    return [v_i - w_i for v_i, w_i in zip(v,w)]\n",
    "assert subtract([5, 7, 9], [4, 5, 6]) == [1, 2, 3]"
   ]
  },
  {
   "cell_type": "code",
   "execution_count": 27,
   "id": "bdd589ee",
   "metadata": {},
   "outputs": [],
   "source": [
    "def vector_sum(vectors: List[Vector]) -> Vector:\n",
    "    assert vectors, 'no vectors provided'\n",
    "    \n",
    "    num_elements = len(vectors[0])\n",
    "    assert all(len(v) == num_elements for v in vectors), 'different sizes!'\n",
    "    \n",
    "    return [sum(vector[i] for vector in vectors)\n",
    "           for i in range(num_elements)]\n",
    "assert vector_sum([[1, 2], [3, 4], [5, 6], [7, 8]]) == [16, 20]"
   ]
  },
  {
   "cell_type": "code",
   "execution_count": 29,
   "id": "45a48067",
   "metadata": {},
   "outputs": [],
   "source": [
    "def scalar_multiply(c: float, v: Vector) -> Vector:\n",
    "    return [c * v_i for v_i in v]\n",
    "assert scalar_multiply(2, [1, 2, 3]) == [2, 4, 6]"
   ]
  },
  {
   "cell_type": "code",
   "execution_count": 30,
   "id": "06fd7031",
   "metadata": {},
   "outputs": [],
   "source": [
    "def vector_mean(vectors: List[Vector]) -> Vector:\n",
    "    n = len(vectors)\n",
    "    return scalar_multiply(1/n, vector_sum(vectors))\n",
    "assert vector_mean([[1, 2], [3, 4], [5, 6]]) == [3, 4]"
   ]
  },
  {
   "cell_type": "code",
   "execution_count": 32,
   "id": "ddc0d945",
   "metadata": {},
   "outputs": [],
   "source": [
    "def dot(v:Vector, w:Vector) -> Vector:\n",
    "    assert len(v) == len(w), \"vectors must be same length!\"\n",
    "    return sum(v_i * w_i for v_i, w_i in zip(v,w))\n",
    "assert dot([1, 2, 3], [4, 5, 6]) == 32  # 1 * 4 + 2 * 5 + 3 * 6"
   ]
  },
  {
   "cell_type": "code",
   "execution_count": 35,
   "id": "ffc28f89",
   "metadata": {},
   "outputs": [],
   "source": [
    "def sum_of_squares(v: Vector) -> float:\n",
    "    return dot(v,v)\n",
    "assert sum_of_squares([1, 2, 3]) == 14  # 1 * 1 + 2 * 2 + 3 * 3"
   ]
  },
  {
   "cell_type": "code",
   "execution_count": 38,
   "id": "088890f9",
   "metadata": {},
   "outputs": [],
   "source": [
    "def magnitude(v: Vector) -> float:\n",
    "    return math.sqrt(sum_of_squares(v))\n",
    "assert magnitude([3, 4]) == 5"
   ]
  },
  {
   "cell_type": "code",
   "execution_count": 39,
   "id": "0cf6b258",
   "metadata": {},
   "outputs": [],
   "source": [
    "def squared_distance(v: Vector, w: Vector) -> float:\n",
    "    \"\"\"Computes (v_1 - w_1) ** 2 + ... + (v_n - w_n) ** 2\"\"\"\n",
    "    return sum_of_squares(subtract(v, w))\n",
    "\n",
    "def distance(v: Vector, w: Vector) -> float:\n",
    "    \"\"\"Computes the distance between v and w\"\"\"\n",
    "    return math.sqrt(squared_distance(v, w))\n",
    "\n",
    "\n",
    "def distance(v: Vector, w: Vector) -> float:  # type: ignore\n",
    "    return magnitude(subtract(v, w))"
   ]
  },
  {
   "cell_type": "code",
   "execution_count": null,
   "id": "6cc764ac",
   "metadata": {},
   "outputs": [],
   "source": []
  }
 ],
 "metadata": {
  "kernelspec": {
   "display_name": "Python 3 (ipykernel)",
   "language": "python",
   "name": "python3"
  },
  "language_info": {
   "codemirror_mode": {
    "name": "ipython",
    "version": 3
   },
   "file_extension": ".py",
   "mimetype": "text/x-python",
   "name": "python",
   "nbconvert_exporter": "python",
   "pygments_lexer": "ipython3",
   "version": "3.9.2"
  }
 },
 "nbformat": 4,
 "nbformat_minor": 5
}
