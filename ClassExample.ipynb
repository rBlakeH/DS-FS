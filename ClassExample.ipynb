{
 "cells": [
  {
   "cell_type": "code",
   "execution_count": 15,
   "metadata": {},
   "outputs": [],
   "source": [
    "class CountingClicks:\n",
    "    def __init__(self, count=0):\n",
    "        self.count = count\n",
    "\n",
    "    def __rep__(self):\n",
    "        return f\"CountingClicks(count={self.count})\"\n",
    "    \n",
    "    def click(self, num_clicks = 1):\n",
    "        self.count += num_clicks\n",
    "    \n",
    "    def read(self):\n",
    "        return self.count\n",
    "    \n",
    "    def reset(self):\n",
    "        self.count = 0"
   ]
  },
  {
   "cell_type": "code",
   "execution_count": 18,
   "metadata": {},
   "outputs": [],
   "source": [
    "clicker = CountingClicks()\n",
    "assert clicker.read() == 0\n",
    "clicker.click()\n",
    "clicker.click()\n",
    "assert clicker.read() == 2 , \"Nope\""
   ]
  },
  {
   "cell_type": "code",
   "execution_count": null,
   "metadata": {},
   "outputs": [],
   "source": []
  }
 ],
 "metadata": {
  "kernelspec": {
   "display_name": "Python 3",
   "language": "python",
   "name": "python3"
  },
  "language_info": {
   "codemirror_mode": {
    "name": "ipython",
    "version": 3
   },
   "file_extension": ".py",
   "mimetype": "text/x-python",
   "name": "python",
   "nbconvert_exporter": "python",
   "pygments_lexer": "ipython3",
   "version": "3.7.3"
  }
 },
 "nbformat": 4,
 "nbformat_minor": 2
}
